{
 "cells": [
  {
   "cell_type": "code",
   "execution_count": null,
   "id": "81c6a03b-db00-4820-b441-07026df82ee8",
   "metadata": {},
   "outputs": [
    {
     "ename": "",
     "evalue": "",
     "output_type": "error",
     "traceback": [
      "\u001b[1;31mRunning cells with 'Python 3.11.9' requires the ipykernel package.\n",
      "\u001b[1;31mRun the following command to install 'ipykernel' into the Python environment. \n",
      "\u001b[1;31mCommand: '\"c:/Users/sandaru malsha/AppData/Local/Microsoft/WindowsApps/python3.11.exe\" -m pip install ipykernel -U --user --force-reinstall'"
     ]
    }
   ],
   "source": [
    "import os\n",
    "import pandas as pd\n",
    "\n",
    "# Path to the folder containing CSV files\n",
    "folder_path = 'Wine_Stats'\n",
    "\n",
    "# Load all CSV files into a list of DataFrames\n",
    "dataframes = []\n",
    "for file_name in os.listdir(folder_path):\n",
    "    if file_name.endswith('.csv'):\n",
    "        file_path = os.path.join(folder_path, file_name)\n",
    "        df = pd.read_csv(file_path)\n",
    "        dataframes.append(df)\n",
    "\n",
    "# Combine all DataFrames into a single DataFrame\n",
    "wine_df = pd.concat(dataframes, ignore_index=True)\n",
    "\n",
    "# Display the first few rows\n",
    "print(wine_df.head())\n"
   ]
  },
  {
   "cell_type": "code",
   "execution_count": null,
   "id": "f368e4ff-b894-4092-a535-5153d44c2e14",
   "metadata": {},
   "outputs": [],
   "source": [
    "# Explore the structure of the DataFrame\n",
    "print(wine_df.info())\n",
    "print(wine_df.describe())\n",
    "\n",
    "# Remove duplicate records\n",
    "wine_df = wine_df.drop_duplicates()\n",
    "\n",
    "# Check for null values\n",
    "print(wine_df.isnull().sum())\n",
    "\n",
    "# Remove rows with null values\n",
    "wine_df = wine_df.dropna()\n",
    "\n",
    "# Confirm the cleaned DataFrame\n",
    "print(wine_df.info())\n"
   ]
  },
  {
   "cell_type": "code",
   "execution_count": null,
   "id": "63b6b204-63ab-4ea1-8a6f-a308e7987c21",
   "metadata": {},
   "outputs": [],
   "source": [
    "import numpy as np\n",
    "\n",
    "# Handling outliers: Example for 'Price' column\n",
    "q1 = wine_df['Price'].quantile(0.25)\n",
    "q3 = wine_df['Price'].quantile(0.75)\n",
    "iqr = q3 - q1\n",
    "\n",
    "# Define limits\n",
    "lower_bound = q1 - 1.5 * iqr\n",
    "upper_bound = q3 + 1.5 * iqr\n",
    "\n",
    "# Remove outliers\n",
    "wine_df = wine_df[(wine_df['Price'] >= lower_bound) & (wine_df['Price'] <= upper_bound)]\n",
    "\n",
    "# Impute missing values (if any exist after dropping nulls)\n",
    "# Example: Replace missing ratings with the mean\n",
    "if wine_df['Rating'].isnull().sum() > 0:\n",
    "    wine_df['Rating'] = wine_df['Rating'].fillna(wine_df['Rating'].mean())\n"
   ]
  },
  {
   "cell_type": "code",
   "execution_count": null,
   "id": "e033120c-6c26-4b31-b9d5-02a594f0392a",
   "metadata": {},
   "outputs": [],
   "source": [
    "# Split 'Region' into 'Country' and 'Country_region'\n",
    "wine_df[['Country', 'Country_region']] = wine_df['Region'].str.split(' / ', n=1, expand=True)\n",
    "\n",
    "# Create binary columns for 'Food pairings'\n",
    "food_items = ['Beef', 'Pasta', 'Lamb', 'Poultry', 'Cheese', 'Fish', 'Seafood']  # Add all 21 items\n",
    "for food in food_items:\n",
    "    wine_df[food] = wine_df['Food pairings'].apply(lambda x: food in str(x))\n",
    "\n",
    "# Display updated DataFrame\n",
    "print(wine_df.head())\n"
   ]
  },
  {
   "cell_type": "code",
   "execution_count": null,
   "id": "b0f4f626-ae83-4207-b883-043da039d49b",
   "metadata": {},
   "outputs": [],
   "source": [
    "# Drop irrelevant columns\n",
    "wine_df = wine_df.drop(columns=['Region'])\n",
    "\n",
    "# Final structure\n",
    "print(wine_df.info())\n"
   ]
  },
  {
   "cell_type": "code",
   "execution_count": null,
   "id": "aa9f838f-ae53-44a8-b6e8-65dd53778d73",
   "metadata": {},
   "outputs": [],
   "source": [
    "print(wine_df.isnull().sum())\n"
   ]
  },
  {
   "cell_type": "code",
   "execution_count": null,
   "id": "78e12a3a",
   "metadata": {},
   "outputs": [],
   "source": [
    "wine_df.dropna(inplace=True)  # Drops rows with missing values\n",
    "print(wine_df.isnull().sum())\n",
    "\n",
    "\n"
   ]
  },
  {
   "cell_type": "markdown",
   "id": "6f97aede-a1dd-440d-bc08-9fd16f221532",
   "metadata": {},
   "source": [
    " Detect Outliers"
   ]
  },
  {
   "cell_type": "code",
   "execution_count": null,
   "id": "a20cc0ec-9946-43a3-bc66-9d713b387001",
   "metadata": {},
   "outputs": [],
   "source": [
    "import matplotlib.pyplot as plt\n",
    "wine_df[['Price', 'Rating']].boxplot()\n",
    "plt.show()\n"
   ]
  },
  {
   "cell_type": "markdown",
   "id": "4cbb33bf-4d6e-4e5d-9b85-39f1d1ce7dd8",
   "metadata": {},
   "source": [
    "Handle Outliers:"
   ]
  },
  {
   "cell_type": "code",
   "execution_count": null,
   "id": "6db0647d-ccb4-444a-bace-6651e890976e",
   "metadata": {},
   "outputs": [],
   "source": [
    "q1 = wine_df['Price'].quantile(0.25)\n",
    "q3 = wine_df['Price'].quantile(0.75)\n",
    "iqr = q3 - q1\n",
    "\n",
    "# Define bounds\n",
    "lower_bound = q1 - 1.5 * iqr\n",
    "upper_bound = q3 + 1.5 * iqr\n",
    "\n",
    "# Filter the DataFrame\n",
    "wine_df = wine_df[(wine_df['Price'] >= lower_bound) & (wine_df['Price'] <= upper_bound)]\n"
   ]
  },
  {
   "cell_type": "code",
   "execution_count": null,
   "id": "477685a5-5386-40e9-92a8-9053fe04bd5f",
   "metadata": {},
   "outputs": [],
   "source": [
    "wine_df[['Price', 'Rating']].boxplot()\n",
    "plt.show()\n"
   ]
  },
  {
   "cell_type": "code",
   "execution_count": null,
   "id": "6ccb5a53-4c03-4d03-9a8f-9c136c5a31d0",
   "metadata": {},
   "outputs": [],
   "source": [
    "print(wine_df.info())\n",
    "print(wine_df.describe())\n"
   ]
  },
  {
   "cell_type": "code",
   "execution_count": null,
   "id": "7f657cd3-d0db-4a40-9438-09750f60d1ca",
   "metadata": {},
   "outputs": [],
   "source": [
    "# Step 2: Handle 'Food pairings' to create binary columns\n",
    "# Extract unique food items\n",
    "food_items = set()\n",
    "wine_df['Food pairings'].apply(lambda x: food_items.update(eval(x)) if isinstance(x, str) else None)\n",
    "food_items = list(food_items)\n"
   ]
  },
  {
   "cell_type": "code",
   "execution_count": null,
   "id": "7c6760da-99d5-4153-92f1-33d68d5d3b60",
   "metadata": {},
   "outputs": [],
   "source": []
  }
 ],
 "metadata": {
  "kernelspec": {
   "display_name": "Python 3",
   "language": "python",
   "name": "python3"
  },
  "language_info": {
   "codemirror_mode": {
    "name": "ipython",
    "version": 3
   },
   "file_extension": ".py",
   "mimetype": "text/x-python",
   "name": "python",
   "nbconvert_exporter": "python",
   "pygments_lexer": "ipython3",
   "version": "3.11.9"
  }
 },
 "nbformat": 4,
 "nbformat_minor": 5
}
