{
 "cells": [
  {
   "cell_type": "code",
   "execution_count": 1,
   "id": "81c6a03b-db00-4820-b441-07026df82ee8",
   "metadata": {},
   "outputs": [
    {
     "name": "stdout",
     "output_type": "stream",
     "text": [
      "   Unnamed: 0                                       Name  Rating  \\\n",
      "0           0                  Fields Of Joy Shiraz 2014     4.0   \n",
      "1           1                          Shotfire GSM 2018     3.9   \n",
      "2           2                  Passion has Red Lips 2020     3.8   \n",
      "3           3   The Hermit Crab Viognier - Marsanne 2018     3.8   \n",
      "4           4  Cabernet Sauvignon (Batch No. 1 & 3) 2019     3.8   \n",
      "\n",
      "   Number of Ratings  Price  \\\n",
      "0                203  28.99   \n",
      "1                 36  19.49   \n",
      "2                350  27.50   \n",
      "3               1026  16.99   \n",
      "4                969  14.99   \n",
      "\n",
      "                                              Region                  Winery  \\\n",
      "0  Australia / South Australia / Mount Lofty Rang...               Two Hands   \n",
      "1              Australia / South Australia / Barossa            Thorn-Clarke   \n",
      "2  Australia / South Australia / Fleurieu / McLar...        Some Young Punks   \n",
      "3  Australia / South Australia / Fleurieu / McLar...              d'Arenberg   \n",
      "4                Australia / South Eastern Australia  Gentleman's Collection   \n",
      "\n",
      "                      Wine style  Alcohol content  \\\n",
      "0              Australian Shiraz        13.794543   \n",
      "1     Australian Rhône Blend Red        14.500000   \n",
      "2   Australian Cabernet - Shiraz        13.794543   \n",
      "3                            NaN        13.794543   \n",
      "4  Australian Cabernet Sauvignon        13.794543   \n",
      "\n",
      "                              Grapes  \\\n",
      "0                                NaN   \n",
      "1  Mourvedre, Shiraz/Syrah, Grenache   \n",
      "2                                NaN   \n",
      "3                                NaN   \n",
      "4                                NaN   \n",
      "\n",
      "                                       Food pairings   Bold    Tannin  Sweet  \\\n",
      "0  ['Beef', 'Lamb', 'Game (deer, venison)', 'Poul...  85.00  47.13000  20.62   \n",
      "1  ['Beef', 'Pasta', 'Lamb', 'Game (deer, venison)']  85.00  50.63000   9.05   \n",
      "2                        ['Beef', 'Lamb', 'Poultry']  85.00  49.37000   8.19   \n",
      "3                                                 []  61.73  46.29527   9.05   \n",
      "4                        ['Beef', 'Lamb', 'Poultry']  76.34  49.36000  16.02   \n",
      "\n",
      "   Acidic  \n",
      "0  43.570  \n",
      "1  43.000  \n",
      "2  44.780  \n",
      "3  53.555  \n",
      "4  47.890  \n"
     ]
    }
   ],
   "source": [
    "import os\n",
    "import pandas as pd\n",
    "\n",
    "# Path to the folder containing CSV files\n",
    "folder_path = 'Wine_Stats'\n",
    "\n",
    "# Load all CSV files into a list of DataFrames\n",
    "dataframes = []\n",
    "for file_name in os.listdir(folder_path):\n",
    "    if file_name.endswith('.csv'):\n",
    "        file_path = os.path.join(folder_path, file_name)\n",
    "        df = pd.read_csv(file_path)\n",
    "        dataframes.append(df)\n",
    "\n",
    "# Combine all DataFrames into a single DataFrame\n",
    "wine_df = pd.concat(dataframes, ignore_index=True)\n",
    "\n",
    "# Display the first few rows\n",
    "print(wine_df.head())\n"
   ]
  },
  {
   "cell_type": "code",
   "execution_count": null,
   "id": "dffcc850",
   "metadata": {},
   "outputs": [],
   "source": []
  },
  {
   "cell_type": "code",
   "execution_count": 2,
   "id": "f368e4ff-b894-4092-a535-5153d44c2e14",
   "metadata": {},
   "outputs": [
    {
     "name": "stdout",
     "output_type": "stream",
     "text": [
      "<class 'pandas.core.frame.DataFrame'>\n",
      "RangeIndex: 5145 entries, 0 to 5144\n",
      "Data columns (total 15 columns):\n",
      " #   Column             Non-Null Count  Dtype  \n",
      "---  ------             --------------  -----  \n",
      " 0   Unnamed: 0         5145 non-null   int64  \n",
      " 1   Name               5145 non-null   object \n",
      " 2   Rating             5145 non-null   float64\n",
      " 3   Number of Ratings  5145 non-null   int64  \n",
      " 4   Price              5145 non-null   float64\n",
      " 5   Region             5145 non-null   object \n",
      " 6   Winery             5142 non-null   object \n",
      " 7   Wine style         4624 non-null   object \n",
      " 8   Alcohol content    5145 non-null   float64\n",
      " 9   Grapes             2977 non-null   object \n",
      " 10  Food pairings      5145 non-null   object \n",
      " 11  Bold               5145 non-null   float64\n",
      " 12  Tannin             5145 non-null   float64\n",
      " 13  Sweet              5145 non-null   float64\n",
      " 14  Acidic             5145 non-null   float64\n",
      "dtypes: float64(7), int64(2), object(6)\n",
      "memory usage: 603.1+ KB\n",
      "None\n",
      "        Unnamed: 0       Rating  Number of Ratings        Price  \\\n",
      "count  5145.000000  5145.000000        5145.000000  5145.000000   \n",
      "mean    503.271914     4.000292         601.032653    27.424618   \n",
      "std     406.492427     0.157726        2725.500208    10.645818   \n",
      "min       0.000000     3.700000          25.000000     6.500000   \n",
      "25%     164.000000     3.900000          73.000000    19.980000   \n",
      "50%     377.000000     4.000000         189.000000    25.990000   \n",
      "75%     790.000000     4.100000         483.000000    34.000000   \n",
      "max    1436.000000     4.600000      159937.000000   155.000000   \n",
      "\n",
      "       Alcohol content         Bold       Tannin        Sweet       Acidic  \n",
      "count      5145.000000  5145.000000  5145.000000  5145.000000  5145.000000  \n",
      "mean         13.794363    57.990384    46.293535    12.259602    54.096125  \n",
      "std           1.242644    19.081310    11.092394    12.306948    14.463969  \n",
      "min           5.000000     0.060000     1.400000     0.010000     7.230000  \n",
      "25%          13.500000    45.330000    46.295270     6.230000    44.700000  \n",
      "50%          13.794543    61.730000    46.295270     9.050000    53.555000  \n",
      "75%          14.000000    69.620000    48.610000    13.200000    63.550000  \n",
      "max          20.500000    85.000000    85.000000    85.000000    85.000000  \n",
      "Unnamed: 0              0\n",
      "Name                    0\n",
      "Rating                  0\n",
      "Number of Ratings       0\n",
      "Price                   0\n",
      "Region                  0\n",
      "Winery                  3\n",
      "Wine style            521\n",
      "Alcohol content         0\n",
      "Grapes               2168\n",
      "Food pairings           0\n",
      "Bold                    0\n",
      "Tannin                  0\n",
      "Sweet                   0\n",
      "Acidic                  0\n",
      "dtype: int64\n",
      "<class 'pandas.core.frame.DataFrame'>\n",
      "Index: 2977 entries, 1 to 5144\n",
      "Data columns (total 15 columns):\n",
      " #   Column             Non-Null Count  Dtype  \n",
      "---  ------             --------------  -----  \n",
      " 0   Unnamed: 0         2977 non-null   int64  \n",
      " 1   Name               2977 non-null   object \n",
      " 2   Rating             2977 non-null   float64\n",
      " 3   Number of Ratings  2977 non-null   int64  \n",
      " 4   Price              2977 non-null   float64\n",
      " 5   Region             2977 non-null   object \n",
      " 6   Winery             2977 non-null   object \n",
      " 7   Wine style         2977 non-null   object \n",
      " 8   Alcohol content    2977 non-null   float64\n",
      " 9   Grapes             2977 non-null   object \n",
      " 10  Food pairings      2977 non-null   object \n",
      " 11  Bold               2977 non-null   float64\n",
      " 12  Tannin             2977 non-null   float64\n",
      " 13  Sweet              2977 non-null   float64\n",
      " 14  Acidic             2977 non-null   float64\n",
      "dtypes: float64(7), int64(2), object(6)\n",
      "memory usage: 372.1+ KB\n",
      "None\n"
     ]
    }
   ],
   "source": [
    "# Explore the structure of the DataFrame\n",
    "print(wine_df.info())\n",
    "print(wine_df.describe())\n",
    "\n",
    "# Remove duplicate records\n",
    "wine_df = wine_df.drop_duplicates()\n",
    "\n",
    "# Check for null values\n",
    "print(wine_df.isnull().sum())\n",
    "\n",
    "# Remove rows with null values\n",
    "wine_df = wine_df.dropna()\n",
    "\n",
    "# Confirm the cleaned DataFrame\n",
    "print(wine_df.info())\n"
   ]
  },
  {
   "cell_type": "code",
   "execution_count": 5,
   "id": "63b6b204-63ab-4ea1-8a6f-a308e7987c21",
   "metadata": {},
   "outputs": [],
   "source": [
    "import numpy as np\n",
    "\n",
    "# Handling outliers: Example for 'Price' column\n",
    "q1 = wine_df['Price'].quantile(0.25)\n",
    "q3 = wine_df['Price'].quantile(0.75)\n",
    "iqr = q3 - q1\n",
    "\n",
    "# Define limits\n",
    "lower_bound = q1 - 1.5 * iqr\n",
    "upper_bound = q3 + 1.5 * iqr\n",
    "\n",
    "# Remove outliers\n",
    "wine_df = wine_df[(wine_df['Price'] >= lower_bound) & (wine_df['Price'] <= upper_bound)]\n",
    "\n",
    "# Impute missing values (if any exist after dropping nulls)\n",
    "# Example: Replace missing ratings with the mean\n",
    "if wine_df['Rating'].isnull().sum() > 0:\n",
    "    wine_df['Rating'] = wine_df['Rating'].fillna(wine_df['Rating'].mean())\n"
   ]
  },
  {
   "cell_type": "code",
   "execution_count": 6,
   "id": "e033120c-6c26-4b31-b9d5-02a594f0392a",
   "metadata": {},
   "outputs": [
    {
     "name": "stdout",
     "output_type": "stream",
     "text": [
      "   Unnamed: 0                       Name  Rating  Number of Ratings  Price  \\\n",
      "1           1          Shotfire GSM 2018     3.9                 36  19.49   \n",
      "5           5  Passion has Red Lips 2014     3.8                648  18.49   \n",
      "7           7         Jester Shiraz 2018     3.9                658  22.00   \n",
      "8           8     Shotfire Quartage 2016     3.8                 93  17.99   \n",
      "9           9     Stonehorse Shiraz 2018     4.0                288  29.17   \n",
      "\n",
      "                                              Region            Winery  \\\n",
      "1              Australia / South Australia / Barossa      Thorn-Clarke   \n",
      "5  Australia / South Australia / Fleurieu / McLar...  Some Young Punks   \n",
      "7  Australia / South Australia / Fleurieu / McLar...            Mitolo   \n",
      "8              Australia / South Australia / Barossa      Thorn-Clarke   \n",
      "9  Australia / South Australia / Barossa / Baross...           Kaesler   \n",
      "\n",
      "                     Wine style  Alcohol content  \\\n",
      "1    Australian Rhône Blend Red             14.5   \n",
      "5  Australian Cabernet - Shiraz             14.5   \n",
      "7             Australian Shiraz             14.5   \n",
      "8     Australian Bordeaux Blend             14.5   \n",
      "9             Australian Shiraz             14.0   \n",
      "\n",
      "                                       Grapes  ... Acidic    Country  \\\n",
      "1           Mourvedre, Shiraz/Syrah, Grenache  ...  43.00  Australia   \n",
      "5      70 Shiraz/Syrah, 30 Cabernet Sauvignon  ...  44.78  Australia   \n",
      "7                            100 Shiraz/Syrah  ...  44.18  Australia   \n",
      "8  Cabernet Franc, Malbec, Cabernet Sauvignon  ...  65.28  Australia   \n",
      "9                            100 Shiraz/Syrah  ...  41.95  Australia   \n",
      "\n",
      "                               Country_region  Beef  Pasta  Lamb Poultry  \\\n",
      "1                   South Australia / Barossa  True   True  True   False   \n",
      "5   South Australia / Fleurieu / McLaren Vale  True  False  True    True   \n",
      "7   South Australia / Fleurieu / McLaren Vale  True  False  True    True   \n",
      "8                   South Australia / Barossa  True   True  True    True   \n",
      "9  South Australia / Barossa / Barossa Valley  True  False  True    True   \n",
      "\n",
      "   Cheese   Fish  Seafood  \n",
      "1   False  False    False  \n",
      "5   False  False    False  \n",
      "7   False  False    False  \n",
      "8   False  False    False  \n",
      "9   False  False    False  \n",
      "\n",
      "[5 rows x 24 columns]\n"
     ]
    }
   ],
   "source": [
    "# Split 'Region' into 'Country' and 'Country_region'\n",
    "wine_df[['Country', 'Country_region']] = wine_df['Region'].str.split(' / ', n=1, expand=True)\n",
    "\n",
    "# Create binary columns for 'Food pairings'\n",
    "food_items = ['Beef', 'Pasta', 'Lamb', 'Poultry', 'Cheese', 'Fish', 'Seafood']  # Add all 21 items\n",
    "for food in food_items:\n",
    "    wine_df[food] = wine_df['Food pairings'].apply(lambda x: food in str(x))\n",
    "\n",
    "# Display updated DataFrame\n",
    "print(wine_df.head())\n"
   ]
  },
  {
   "cell_type": "code",
   "execution_count": 7,
   "id": "b0f4f626-ae83-4207-b883-043da039d49b",
   "metadata": {},
   "outputs": [
    {
     "name": "stdout",
     "output_type": "stream",
     "text": [
      "<class 'pandas.core.frame.DataFrame'>\n",
      "Index: 2927 entries, 1 to 5144\n",
      "Data columns (total 23 columns):\n",
      " #   Column             Non-Null Count  Dtype  \n",
      "---  ------             --------------  -----  \n",
      " 0   Unnamed: 0         2927 non-null   int64  \n",
      " 1   Name               2927 non-null   object \n",
      " 2   Rating             2927 non-null   float64\n",
      " 3   Number of Ratings  2927 non-null   int64  \n",
      " 4   Price              2927 non-null   float64\n",
      " 5   Winery             2927 non-null   object \n",
      " 6   Wine style         2927 non-null   object \n",
      " 7   Alcohol content    2927 non-null   float64\n",
      " 8   Grapes             2927 non-null   object \n",
      " 9   Food pairings      2927 non-null   object \n",
      " 10  Bold               2927 non-null   float64\n",
      " 11  Tannin             2927 non-null   float64\n",
      " 12  Sweet              2927 non-null   float64\n",
      " 13  Acidic             2927 non-null   float64\n",
      " 14  Country            2927 non-null   object \n",
      " 15  Country_region     2923 non-null   object \n",
      " 16  Beef               2927 non-null   bool   \n",
      " 17  Pasta              2927 non-null   bool   \n",
      " 18  Lamb               2927 non-null   bool   \n",
      " 19  Poultry            2927 non-null   bool   \n",
      " 20  Cheese             2927 non-null   bool   \n",
      " 21  Fish               2927 non-null   bool   \n",
      " 22  Seafood            2927 non-null   bool   \n",
      "dtypes: bool(7), float64(7), int64(2), object(7)\n",
      "memory usage: 408.8+ KB\n",
      "None\n"
     ]
    }
   ],
   "source": [
    "# Drop irrelevant columns\n",
    "wine_df = wine_df.drop(columns=['Region'])\n",
    "\n",
    "# Final structure\n",
    "print(wine_df.info())\n"
   ]
  },
  {
   "cell_type": "code",
   "execution_count": 8,
   "id": "aa9f838f-ae53-44a8-b6e8-65dd53778d73",
   "metadata": {},
   "outputs": [
    {
     "name": "stdout",
     "output_type": "stream",
     "text": [
      "Unnamed: 0           0\n",
      "Name                 0\n",
      "Rating               0\n",
      "Number of Ratings    0\n",
      "Price                0\n",
      "Winery               0\n",
      "Wine style           0\n",
      "Alcohol content      0\n",
      "Grapes               0\n",
      "Food pairings        0\n",
      "Bold                 0\n",
      "Tannin               0\n",
      "Sweet                0\n",
      "Acidic               0\n",
      "Country              0\n",
      "Country_region       4\n",
      "Beef                 0\n",
      "Pasta                0\n",
      "Lamb                 0\n",
      "Poultry              0\n",
      "Cheese               0\n",
      "Fish                 0\n",
      "Seafood              0\n",
      "dtype: int64\n"
     ]
    }
   ],
   "source": [
    "print(wine_df.isnull().sum())\n"
   ]
  },
  {
   "cell_type": "code",
   "execution_count": 9,
   "id": "78e12a3a",
   "metadata": {},
   "outputs": [
    {
     "name": "stdout",
     "output_type": "stream",
     "text": [
      "Unnamed: 0           0\n",
      "Name                 0\n",
      "Rating               0\n",
      "Number of Ratings    0\n",
      "Price                0\n",
      "Winery               0\n",
      "Wine style           0\n",
      "Alcohol content      0\n",
      "Grapes               0\n",
      "Food pairings        0\n",
      "Bold                 0\n",
      "Tannin               0\n",
      "Sweet                0\n",
      "Acidic               0\n",
      "Country              0\n",
      "Country_region       0\n",
      "Beef                 0\n",
      "Pasta                0\n",
      "Lamb                 0\n",
      "Poultry              0\n",
      "Cheese               0\n",
      "Fish                 0\n",
      "Seafood              0\n",
      "dtype: int64\n"
     ]
    }
   ],
   "source": [
    "wine_df.dropna(inplace=True)  # Drops rows with missing values\n",
    "print(wine_df.isnull().sum())\n",
    "\n",
    "\n"
   ]
  },
  {
   "cell_type": "markdown",
   "id": "6f97aede-a1dd-440d-bc08-9fd16f221532",
   "metadata": {},
   "source": [
    " Detect Outliers"
   ]
  },
  {
   "cell_type": "code",
   "execution_count": 10,
   "id": "a20cc0ec-9946-43a3-bc66-9d713b387001",
   "metadata": {},
   "outputs": [
    {
     "data": {
      "image/png": "[encoded data removed]",
      "text/plain": [
       "<Figure size 640x480 with 1 Axes>"
      ]
     },
     "metadata": {},
     "output_type": "display_data"
    }
   ],
   "source": [
    "import matplotlib.pyplot as plt\n",
    "wine_df[['Price', 'Rating']].boxplot()\n",
    "plt.show()\n"
   ]
  },
  {
   "cell_type": "markdown",
   "id": "4cbb33bf-4d6e-4e5d-9b85-39f1d1ce7dd8",
   "metadata": {},
   "source": [
    "Handle Outliers:"
   ]
  },
  {
   "cell_type": "code",
   "execution_count": 13,
   "id": "6db0647d-ccb4-444a-bace-6651e890976e",
   "metadata": {},
   "outputs": [],
   "source": [
    "q1 = wine_df['Price'].quantile(0.25)\n",
    "q3 = wine_df['Price'].quantile(0.75)\n",
    "iqr = q3 - q1\n",
    "\n",
    "# Define bounds\n",
    "lower_bound = q1 - 1.5 * iqr\n",
    "upper_bound = q3 + 1.5 * iqr\n",
    "\n",
    "# Filter the DataFrame\n",
    "wine_df = wine_df[(wine_df['Price'] >= lower_bound) & (wine_df['Price'] <= upper_bound)]\n"
   ]
  },
  {
   "cell_type": "code",
   "execution_count": 14,
   "id": "477685a5-5386-40e9-92a8-9053fe04bd5f",
   "metadata": {},
   "outputs": [
    {
     "data": {
      "image/png": "[encoded data removed]",
      "text/plain": [
       "<Figure size 640x480 with 1 Axes>"
      ]
     },
     "metadata": {},
     "output_type": "display_data"
    }
   ],
   "source": [
    "wine_df[['Price', 'Rating']].boxplot()\n",
    "plt.show()\n"
   ]
  },
  {
   "cell_type": "code",
   "execution_count": 15,
   "id": "6ccb5a53-4c03-4d03-9a8f-9c136c5a31d0",
   "metadata": {},
   "outputs": [
    {
     "name": "stdout",
     "output_type": "stream",
     "text": [
      "<class 'pandas.core.frame.DataFrame'>\n",
      "Index: 2923 entries, 1 to 5144\n",
      "Data columns (total 23 columns):\n",
      " #   Column             Non-Null Count  Dtype  \n",
      "---  ------             --------------  -----  \n",
      " 0   Unnamed: 0         2923 non-null   int64  \n",
      " 1   Name               2923 non-null   object \n",
      " 2   Rating             2923 non-null   float64\n",
      " 3   Number of Ratings  2923 non-null   int64  \n",
      " 4   Price              2923 non-null   float64\n",
      " 5   Winery             2923 non-null   object \n",
      " 6   Wine style         2923 non-null   object \n",
      " 7   Alcohol content    2923 non-null   float64\n",
      " 8   Grapes             2923 non-null   object \n",
      " 9   Food pairings      2923 non-null   object \n",
      " 10  Bold               2923 non-null   float64\n",
      " 11  Tannin             2923 non-null   float64\n",
      " 12  Sweet              2923 non-null   float64\n",
      " 13  Acidic             2923 non-null   float64\n",
      " 14  Country            2923 non-null   object \n",
      " 15  Country_region     2923 non-null   object \n",
      " 16  Beef               2923 non-null   bool   \n",
      " 17  Pasta              2923 non-null   bool   \n",
      " 18  Lamb               2923 non-null   bool   \n",
      " 19  Poultry            2923 non-null   bool   \n",
      " 20  Cheese             2923 non-null   bool   \n",
      " 21  Fish               2923 non-null   bool   \n",
      " 22  Seafood            2923 non-null   bool   \n",
      "dtypes: bool(7), float64(7), int64(2), object(7)\n",
      "memory usage: 408.2+ KB\n",
      "None\n",
      "        Unnamed: 0       Rating  Number of Ratings        Price  \\\n",
      "count  2923.000000  2923.000000        2923.000000  2923.000000   \n",
      "mean    488.082792     3.990763         840.986658    27.111037   \n",
      "std     397.000406     0.150189        3468.100049     9.182387   \n",
      "min       0.000000     3.700000          25.000000     6.500000   \n",
      "25%     161.000000     3.900000         128.500000    19.985000   \n",
      "50%     369.000000     4.000000         301.000000    25.990000   \n",
      "75%     744.500000     4.100000         732.000000    34.495000   \n",
      "max    1434.000000     4.500000      159937.000000    56.000000   \n",
      "\n",
      "       Alcohol content         Bold       Tannin        Sweet       Acidic  \n",
      "count      2923.000000  2923.000000  2923.000000  2923.000000  2923.000000  \n",
      "mean         13.794458    58.411568    46.467250    12.939661    53.582491  \n",
      "std           1.637686    20.034911    11.321934    13.243865    15.226647  \n",
      "min           5.000000     1.730000     1.400000     0.010000     8.680000  \n",
      "25%          13.000000    44.315000    45.050000     5.830000    43.970000  \n",
      "50%          13.500000    61.730000    46.295270     9.050000    53.555000  \n",
      "75%          14.500000    74.450000    50.100000    14.765000    64.135000  \n",
      "max          20.500000    85.000000    84.970000    85.000000    85.000000  \n"
     ]
    }
   ],
   "source": [
    "print(wine_df.info())\n",
    "print(wine_df.describe())\n"
   ]
  },
  {
   "cell_type": "code",
   "execution_count": 16,
   "id": "7f657cd3-d0db-4a40-9438-09750f60d1ca",
   "metadata": {},
   "outputs": [],
   "source": [
    "# Step 2: Handle 'Food pairings' to create binary columns\n",
    "# Extract unique food items\n",
    "food_items = set()\n",
    "wine_df['Food pairings'].apply(lambda x: food_items.update(eval(x)) if isinstance(x, str) else None)\n",
    "food_items = list(food_items)\n"
   ]
  },
  {
   "cell_type": "code",
   "execution_count": 17,
   "id": "7c6760da-99d5-4153-92f1-33d68d5d3b60",
   "metadata": {},
   "outputs": [
    {
     "name": "stdout",
     "output_type": "stream",
     "text": [
      "   Unnamed: 0                       Name  Rating  Number of Ratings  Price  \\\n",
      "1           1          Shotfire GSM 2018     3.9                 36  19.49   \n",
      "5           5  Passion has Red Lips 2014     3.8                648  18.49   \n",
      "7           7         Jester Shiraz 2018     3.9                658  22.00   \n",
      "8           8     Shotfire Quartage 2016     3.8                 93  17.99   \n",
      "9           9     Stonehorse Shiraz 2018     4.0                288  29.17   \n",
      "\n",
      "             Winery                    Wine style  Alcohol content  \\\n",
      "1      Thorn-Clarke    Australian Rhône Blend Red             14.5   \n",
      "5  Some Young Punks  Australian Cabernet - Shiraz             14.5   \n",
      "7            Mitolo             Australian Shiraz             14.5   \n",
      "8      Thorn-Clarke     Australian Bordeaux Blend             14.5   \n",
      "9           Kaesler             Australian Shiraz             14.0   \n",
      "\n",
      "                                       Grapes  \\\n",
      "1           Mourvedre, Shiraz/Syrah, Grenache   \n",
      "5      70 Shiraz/Syrah, 30 Cabernet Sauvignon   \n",
      "7                            100 Shiraz/Syrah   \n",
      "8  Cabernet Franc, Malbec, Cabernet Sauvignon   \n",
      "9                            100 Shiraz/Syrah   \n",
      "\n",
      "                                       Food pairings  ...  Cured Meat  \\\n",
      "1  ['Beef', 'Pasta', 'Lamb', 'Game (deer, venison)']  ...       False   \n",
      "5                        ['Beef', 'Lamb', 'Poultry']  ...       False   \n",
      "7  ['Beef', 'Lamb', 'Game (deer, venison)', 'Poul...  ...       False   \n",
      "8  ['Beef', 'Pasta', 'Lamb', 'Game (deer, venison...  ...       False   \n",
      "9  ['Beef', 'Lamb', 'Game (deer, venison)', 'Poul...  ...       False   \n",
      "\n",
      "   Fruity desserts   Veal  Aperitif Lean fish Shellfish  \\\n",
      "1            False  False     False     False     False   \n",
      "5            False  False     False     False     False   \n",
      "7            False  False     False     False     False   \n",
      "8            False  False     False     False     False   \n",
      "9            False  False     False     False     False   \n",
      "\n",
      "   Appetizers and snacks   Pork  Spicy food  Blue cheese  \n",
      "1                  False  False       False        False  \n",
      "5                  False  False       False        False  \n",
      "7                  False  False       False        False  \n",
      "8                  False  False       False        False  \n",
      "9                  False  False       False        False  \n",
      "\n",
      "[5 rows x 41 columns]\n"
     ]
    }
   ],
   "source": [
    "# Create binary columns for food items\n",
    "for food in food_items:\n",
    "    wine_df[food] = wine_df['Food pairings'].apply(lambda x: food in eval(x) if isinstance(x, str) else False)\n",
    "\n",
    "# Display the updated DataFrame\n",
    "print(wine_df.head())"
   ]
  },
  {
   "cell_type": "code",
   "execution_count": null,
   "id": "f3e11178",
   "metadata": {},
   "outputs": [],
   "source": [
    "# Identify columns to drop\n",
    "columns_to_drop = ['Unnamed: 0', 'Food pairings']\n",
    "\n",
    "# Drop the columns\n",
    "wine_df = wine_df.drop(columns=columns_to_drop)\n",
    "\n",
    "# Display the updated DataFrame structure\n",
    "print(wine_df.info())"
   ]
  },
  {
   "cell_type": "code",
   "execution_count": null,
   "id": "6f16a10b",
   "metadata": {},
   "outputs": [],
   "source": [
    "# Save the DataFrame to a CSV file in the current working directory\n",
    "output_path = \"wine_df_cleaned.csv\"\n",
    "wine_df.to_csv(output_path, index=False)\n",
    "print(f\"File saved as {output_path}\")"
   ]
  }
 ],
 "metadata": {
  "kernelspec": {
   "display_name": "Python 3",
   "language": "python",
   "name": "python3"
  },
  "language_info": {
   "codemirror_mode": {
    "name": "ipython",
    "version": 3
   },
   "file_extension": ".py",
   "mimetype": "text/x-python",
   "name": "python",
   "nbconvert_exporter": "python",
   "pygments_lexer": "ipython3",
   "version": "3.12.3"
  }
 },
 "nbformat": 4,
 "nbformat_minor": 5
}
